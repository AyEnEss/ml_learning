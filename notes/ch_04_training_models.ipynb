{
 "cells": [
  {
   "cell_type": "markdown",
   "metadata": {},
   "source": [
    "# Training Models"
   ]
  },
  {
   "cell_type": "code",
   "execution_count": 21,
   "metadata": {},
   "outputs": [],
   "source": [
    "import pandas as pd\n",
    "import numpy as np\n",
    "import sys\n",
    "import matplotlib as mpl\n",
    "import matplotlib.pyplot as plt\n",
    "from sklearn import datasets\n",
    "import os\n",
    "%matplotlib inline\n",
    "\n",
    "\n",
    "ROOT_DIR = os.path.join('C:\\\\', 'Users', 'sebas', 'OneDrive', 'Python', 'machine_learning', 'ml_learning')\n",
    "FUNCTIONS_PATH = os.path.join(ROOT_DIR, 'functions')\n",
    "sys.path.append(FUNCTIONS_PATH) #extend search path to load functions later on"
   ]
  },
  {
   "cell_type": "code",
   "execution_count": null,
   "metadata": {},
   "outputs": [],
   "source": []
  },
  {
   "cell_type": "markdown",
   "metadata": {},
   "source": [
    "## Linear Regression"
   ]
  },
  {
   "cell_type": "code",
   "execution_count": 2,
   "metadata": {},
   "outputs": [
    {
     "data": {
      "image/png": "[encoded data removed]",
      "text/plain": [
       "<Figure size 432x288 with 1 Axes>"
      ]
     },
     "metadata": {
      "needs_background": "light"
     },
     "output_type": "display_data"
    }
   ],
   "source": [
    "#generate random linear datapoints\n",
    "X = 4*np.random.rand(100, 1)\n",
    "y = 4/3 + 7/4 *X + np.random.randn(100, 1)\n",
    "\n",
    "plt.scatter(X, y)\n",
    "plt.xlabel('X')\n",
    "plt.ylabel('y')\n",
    "plt.show()"
   ]
  },
  {
   "cell_type": "markdown",
   "metadata": {},
   "source": [
    "Now, lets compute the value of $\\theta$ using the normal equation\n",
    "remember, the normal equation is \n",
    "\n",
    "$$\\theta=(X^{T}X)^{-1} X^{T}y$$"
   ]
  },
  {
   "cell_type": "code",
   "execution_count": 3,
   "metadata": {},
   "outputs": [],
   "source": [
    "X_b = np.c_[np.ones((100,1)), X] #add X0 = 1 to each instance\n",
    "\n",
    "#now calculate the dot product, using normal equation\n",
    "best_theta = np.linalg.inv(X_b.T.dot(X_b)).dot(X_b.T).dot(y)"
   ]
  },
  {
   "cell_type": "markdown",
   "metadata": {},
   "source": [
    "### Normal Equation\n",
    "lets break down the above equation one part at a time:\n",
    "\n",
    "```python \n",
    "np.linalg.inv(X_b.T.dot(X_b))\n",
    "```\n",
    "is the same as $$\\theta=(X^{T}X)^{-1}$$\n",
    "\n",
    "```np.linalg.inv``` takes care of the inverse, then everything inside is the dot product of X_b transpose (T) and X_b, hence\n",
    "the X_b.T.dot(X_b)\n",
    "\n",
    "next, we take that resulting matrix and get the dot product of X_b.dot(y), which is the $$X^{T}y$$\n",
    "\n",
    "to simplify:\n",
    "\n",
    "`np.linalg.inv(X_b.T.dot(X_b))` = $$\\theta=(X^{T}X)^{-1}$$\n",
    "`...dot(X_b.T).dot(y)` = $$X^{T}y$$"
   ]
  },
  {
   "cell_type": "code",
   "execution_count": 4,
   "metadata": {},
   "outputs": [
    {
     "data": {
      "text/plain": [
       "array([[1.22764358],\n",
       "       [1.8307767 ]])"
      ]
     },
     "execution_count": 4,
     "metadata": {},
     "output_type": "execute_result"
    }
   ],
   "source": [
    "best_theta"
   ]
  },
  {
   "cell_type": "code",
   "execution_count": 5,
   "metadata": {},
   "outputs": [
    {
     "data": {
      "text/plain": [
       "array([[1.22764358],\n",
       "       [8.55075038]])"
      ]
     },
     "execution_count": 5,
     "metadata": {},
     "output_type": "execute_result"
    }
   ],
   "source": [
    "#now lets make some predictions using best_theta\n",
    "X_new = np.array([[0], [4]]) #here we create 2 instances at 0 and 2\n",
    "X_new_b = np.c_[np.ones((2,1)), X_new]#here we add 1s to the first column (X0)\n",
    "y_predict = X_new_b.dot(best_theta)\n",
    "y_predict"
   ]
  },
  {
   "cell_type": "code",
   "execution_count": 6,
   "metadata": {},
   "outputs": [
    {
     "data": {
      "image/png": "[encoded data removed]",
      "text/plain": [
       "<Figure size 432x288 with 1 Axes>"
      ]
     },
     "metadata": {
      "needs_background": "light"
     },
     "output_type": "display_data"
    }
   ],
   "source": [
    "#lets plot the line of best fit\n",
    "plt.plot(X_new, y_predict, 'r-')\n",
    "plt.plot(X, y, 'b.')\n",
    "plt.axis([0,4,0,10])\n",
    "plt.show()"
   ]
  },
  {
   "cell_type": "code",
   "execution_count": 7,
   "metadata": {},
   "outputs": [
    {
     "data": {
      "text/plain": [
       "(array([1.22764358]), array([[1.8307767]]))"
      ]
     },
     "execution_count": 7,
     "metadata": {},
     "output_type": "execute_result"
    }
   ],
   "source": [
    "# now lets see what we get when we fit linear regression to our data\n",
    "from sklearn.linear_model import LinearRegression\n",
    "lin_reg = LinearRegression()\n",
    "lin_reg.fit(X,y)\n",
    "lin_reg.intercept_, lin_reg.coef_"
   ]
  },
  {
   "cell_type": "code",
   "execution_count": 8,
   "metadata": {},
   "outputs": [
    {
     "data": {
      "text/plain": [
       "array([[1.22764358],\n",
       "       [8.55075038]])"
      ]
     },
     "execution_count": 8,
     "metadata": {},
     "output_type": "execute_result"
    }
   ],
   "source": [
    "lin_reg.predict(X_new)"
   ]
  },
  {
   "cell_type": "markdown",
   "metadata": {},
   "source": [
    "### Gradient Descent"
   ]
  },
  {
   "cell_type": "markdown",
   "metadata": {},
   "source": [
    "The equation for gradient descent, in vectorized form is the following: \n",
    "$$ \\nabla_{\\theta} MSE(\\theta) = \\frac{2}{m}X^{T}(X\\theta - y)$$\n",
    "\n",
    "the following equation is for a single step of gradient descent:\n",
    "$$ \\theta^{next step} = \\theta - n \\nabla_{\\theta}MSE(\\theta)$$"
   ]
  },
  {
   "cell_type": "code",
   "execution_count": 9,
   "metadata": {},
   "outputs": [],
   "source": [
    "#now lets implemennt this in python\n",
    "eta = 0.1 # set the learning rate (n)\n",
    "n_iterations = 1000\n",
    "m = 100 #number of samples or instances\n",
    "\n",
    "theta = np.random.randn(2,1) #random initialization\n",
    "for iteration in range(n_iterations):\n",
    "    gradients = 2/m * X_b.T.dot(X_b.dot(theta) - y) #this is the first equation above\n",
    "    theta = theta - eta * gradients #this is the second equation above\n"
   ]
  },
  {
   "cell_type": "markdown",
   "metadata": {},
   "source": [
    "notice that we set the variable \"gradients\" to equal the MSE calculation, then we used that gradient in the second equation for the next step."
   ]
  },
  {
   "cell_type": "code",
   "execution_count": 10,
   "metadata": {},
   "outputs": [
    {
     "data": {
      "text/plain": [
       "array([[1.22764358],\n",
       "       [1.8307767 ]])"
      ]
     },
     "execution_count": 10,
     "metadata": {},
     "output_type": "execute_result"
    }
   ],
   "source": [
    "theta"
   ]
  },
  {
   "cell_type": "markdown",
   "metadata": {},
   "source": [
    "### Stochastic Gradient Descent\n",
    "The main problem with Batch Gradient Descent is that it uses the entire training set so it can take a long time to compute if you have a large amount of data.\n",
    "Stochastic Gradient Descent however, uses random instances to compute gradient descent, instead of the entire training set, making it much quicker, however \n",
    "this makes the computation much more sporadic because of its random nature. Once it reaches the minimum, it will still be sort of bouncing around, so while the \n",
    "results are good, they may not necessarily be optimal.\n",
    "- one solution to this issue is to gradually reduce the learning rate, so that by the time it gets to the minimum, the learning rate is so small that it ends up setteling instead of continuing to bounce around."
   ]
  },
  {
   "cell_type": "markdown",
   "metadata": {},
   "source": [
    "lets implement SGD in code:"
   ]
  },
  {
   "cell_type": "code",
   "execution_count": 11,
   "metadata": {},
   "outputs": [],
   "source": [
    "n_epochs = 50\n",
    "t0, t1 = 5, 50 #learning schedule hyperparameters\n",
    "\n",
    "def learning_schedule(t):\n",
    "    return t0/(t + t1)\n",
    "\n",
    "theta = np.random.randn(2,1) # random initialization\n",
    "\n",
    "for epoch in range(n_epochs):\n",
    "    for i in range (m):\n",
    "        random_index = np.random.randint(m)\n",
    "        xi = X_b[random_index:random_index+1]\n",
    "        yi = y[random_index:random_index+1]\n",
    "        gradients = 2*xi.T.dot(xi.dot(theta) - yi)\n",
    "        eta = learning_schedule(epoch *m + 1)\n",
    "        theta = theta - eta * gradients"
   ]
  },
  {
   "cell_type": "code",
   "execution_count": 12,
   "metadata": {},
   "outputs": [
    {
     "data": {
      "text/plain": [
       "array([[1.28447113],\n",
       "       [1.80335292]])"
      ]
     },
     "execution_count": 12,
     "metadata": {},
     "output_type": "execute_result"
    }
   ],
   "source": [
    "theta"
   ]
  },
  {
   "cell_type": "code",
   "execution_count": 13,
   "metadata": {},
   "outputs": [
    {
     "data": {
      "text/plain": [
       "(array([1.1686949]), array([1.74038936]))"
      ]
     },
     "execution_count": 13,
     "metadata": {},
     "output_type": "execute_result"
    }
   ],
   "source": [
    "# you can also use the SGD class provided by scikit learn\n",
    "from sklearn.linear_model import SGDRegressor\n",
    "sgd_reg = SGDRegressor(max_iter=1000, tol=1e-3, penalty=None, eta0=0.1)\n",
    "sgd_reg.fit(X, y.ravel())\n",
    "sgd_reg.intercept_, sgd_reg.coef_"
   ]
  },
  {
   "cell_type": "markdown",
   "metadata": {},
   "source": [
    "### Mini-batch Gradient Descent\n",
    "This is similar to the previous except  a few differences:\n",
    "- At each step, instead of using the whole training set (like Batch GD) or random instances (like SGD), it uses small random sets of instances (called *mini-batches*)\n",
    "    - main advantage over SGD:\n",
    "        - you get a performance boost"
   ]
  },
  {
   "cell_type": "markdown",
   "metadata": {},
   "source": [
    "## Polynomial Regression\n",
    "\n",
    "Most of the time the data will be much more complex than a straight line.\n",
    "In these cases, we can fit a linear model to nonlinear data, by adding powers of each feature as new features."
   ]
  },
  {
   "cell_type": "code",
   "execution_count": 35,
   "metadata": {},
   "outputs": [
    {
     "data": {
      "image/png": "[encoded data removed]",
      "text/plain": [
       "<Figure size 432x288 with 1 Axes>"
      ]
     },
     "metadata": {
      "needs_background": "light"
     },
     "output_type": "display_data"
    }
   ],
   "source": [
    "# Create non-linear data to play with\n",
    "m = 100\n",
    "X = 6 * np.random.rand(m, 1) - 3\n",
    "y = 0.5 * X**2 + X + 2 + np.random.randn(m, 1)\n",
    "plt.plot(X, y, 'r.')\n",
    "plt.show()"
   ]
  },
  {
   "cell_type": "code",
   "execution_count": 15,
   "metadata": {},
   "outputs": [
    {
     "name": "stdout",
     "output_type": "stream",
     "text": [
      "X:  [2.69828879]\n",
      "X_poly:  [2.69828879 7.2807624 ]\n"
     ]
    }
   ],
   "source": [
    "from sklearn.preprocessing import PolynomialFeatures\n",
    "poly_features = PolynomialFeatures(degree = 2, include_bias=False)\n",
    "X_poly = poly_features.fit_transform(X)\n",
    "print('X: ', X[0])\n",
    "print('X_poly: ', X_poly[0])"
   ]
  },
  {
   "cell_type": "markdown",
   "metadata": {},
   "source": [
    "*Notice how X_poly now includes the original feature, as well as the square of that feature*\n",
    "Now lets fit linear regression to this new, extended dataset"
   ]
  },
  {
   "cell_type": "code",
   "execution_count": 16,
   "metadata": {},
   "outputs": [
    {
     "data": {
      "text/plain": [
       "(array([2.40909256]), array([[0.94566404, 0.39327194]]))"
      ]
     },
     "execution_count": 16,
     "metadata": {},
     "output_type": "execute_result"
    }
   ],
   "source": [
    "lin_reg = LinearRegression()\n",
    "lin_reg.fit(X_poly, y)\n",
    "lin_reg.intercept_, lin_reg.coef_"
   ]
  },
  {
   "cell_type": "code",
   "execution_count": 17,
   "metadata": {},
   "outputs": [
    {
     "data": {
      "image/png": "[encoded data removed]",
      "text/plain": [
       "<Figure size 432x288 with 1 Axes>"
      ]
     },
     "metadata": {
      "needs_background": "light"
     },
     "output_type": "display_data"
    }
   ],
   "source": [
    "plt.plot(X, y, 'b.')\n",
    "plt.plot(X[0], X[3], 'r-')\n",
    "plt.show()"
   ]
  },
  {
   "cell_type": "code",
   "execution_count": 18,
   "metadata": {},
   "outputs": [
    {
     "data": {
      "text/plain": [
       "[<matplotlib.lines.Line2D at 0x25a7aaf98d0>]"
      ]
     },
     "execution_count": 18,
     "metadata": {},
     "output_type": "execute_result"
    },
    {
     "data": {
      "image/png": "[encoded data removed]",
      "text/plain": [
       "<Figure size 432x288 with 1 Axes>"
      ]
     },
     "metadata": {
      "needs_background": "light"
     },
     "output_type": "display_data"
    }
   ],
   "source": [
    "X_new = np.linspace(-3, 3,200).reshape(200,1)\n",
    "X_new_poly = poly_features.transform(X_new)\n",
    "y_new = lin_reg.predict(X_new_poly)\n",
    "plt.plot(X, y, 'b.')\n",
    "plt.plot(X_new, y_new, 'r-')"
   ]
  },
  {
   "cell_type": "code",
   "execution_count": 22,
   "metadata": {},
   "outputs": [],
   "source": [
    "from ml_functions import plot_learning_curves as plc"
   ]
  },
  {
   "cell_type": "code",
   "execution_count": 23,
   "metadata": {},
   "outputs": [
    {
     "data": {
      "image/png": "[encoded data removed]",
      "text/plain": [
       "<Figure size 432x288 with 1 Axes>"
      ]
     },
     "metadata": {
      "needs_background": "light"
     },
     "output_type": "display_data"
    }
   ],
   "source": [
    "plc(lin_reg, X, y)"
   ]
  },
  {
   "cell_type": "markdown",
   "metadata": {},
   "source": [
    "Notice a few things about the graph above:\n",
    "- when the training size is small, there is small errors on the training set\n",
    "- at this same time, the the errors are large on validation set because of such few training examples.\n",
    "\n",
    "When more and more training examples are introduced:\n",
    "- the model has a hard time fitting all the points (linear model fitting polynomial data) and so the errors rise and then plateau\n",
    "- at the same time, on the validation set, the errors decrease until again it hits a plateau\n",
    "\n",
    "This is an example of a model that is underfitting:\n",
    "- Both curves have plateaued, and are close and fairly high in errors"
   ]
  },
  {
   "cell_type": "markdown",
   "metadata": {},
   "source": [
    "Lets look at a curve of a 2nd-degree polynomial, to get a view at what *overfitting* looks like"
   ]
  },
  {
   "cell_type": "code",
   "execution_count": 38,
   "metadata": {},
   "outputs": [
    {
     "data": {
      "image/png": "[encoded data removed]",
      "text/plain": [
       "<Figure size 432x288 with 1 Axes>"
      ]
     },
     "metadata": {
      "needs_background": "light"
     },
     "output_type": "display_data"
    }
   ],
   "source": [
    "from sklearn.pipeline import Pipeline\n",
    "polynomial_regression = Pipeline([\n",
    "    ('poly_features', PolynomialFeatures(degree=2, include_bias=False)),\n",
    "    ('lin_reg', LinearRegression())\n",
    "])\n",
    "\n",
    "plc(polynomial_regression, X, y)"
   ]
  },
  {
   "cell_type": "markdown",
   "metadata": {},
   "source": [
    "Notice here 2 things:\n",
    "- the errors on the training data are quite low (at around 1) compared with the linear regression from before\n",
    "- there is a gap between the curves, meaning that the model performs much better on the training set than the data set.\n",
    "    - this means that this model is overfitting, as it is not generalizing very well. \n",
    "        - one way to improve this is by adding more training data until the validation error reaches the training error"
   ]
  },
  {
   "cell_type": "markdown",
   "metadata": {},
   "source": [
    "## Regularized Linear Models ##\n",
    "A good way to reduce overfitting is by simplifying the data. This can be done by regularizing the model (i.e constraining it).\n",
    "One way to regularize a polynomial model is by reducing the number of polynomial degrees.\n",
    "\n",
    "For linear models, regularization is done by constraining the weights of the model. To understand this, we will now look 3 different ways to achieve this:\n",
    "- Ridge Regression\n",
    "- Lasso Regression\n",
    "- Elastic Net\n",
    "\n",
    "### Ridge Regression###"
   ]
  },
  {
   "cell_type": "code",
   "execution_count": null,
   "metadata": {},
   "outputs": [],
   "source": []
  }
 ],
 "metadata": {
  "kernelspec": {
   "display_name": "Python 3",
   "language": "python",
   "name": "python3"
  },
  "language_info": {
   "codemirror_mode": {
    "name": "ipython",
    "version": 3
   },
   "file_extension": ".py",
   "mimetype": "text/x-python",
   "name": "python",
   "nbconvert_exporter": "python",
   "pygments_lexer": "ipython3",
   "version": "3.7.3"
  }
 },
 "nbformat": 4,
 "nbformat_minor": 4
}
